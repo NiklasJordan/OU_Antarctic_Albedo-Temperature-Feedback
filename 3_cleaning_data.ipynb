{
 "cells": [
  {
   "cell_type": "markdown",
   "id": "4854231c",
   "metadata": {
    "pycharm": {
     "name": "#%% md\n"
    }
   },
   "source": [
    "# Cleaning data"
   ]
  },
  {
   "cell_type": "markdown",
   "id": "c9c20755",
   "metadata": {
    "pycharm": {
     "name": "#%% md\n"
    }
   },
   "source": [
    "## Setup"
   ]
  },
  {
   "cell_type": "code",
   "execution_count": 1,
   "id": "2a441e1b-7c8d-4d42-9ea4-83129beaad0f",
   "metadata": {
    "pycharm": {
     "name": "#%%\n"
    }
   },
   "outputs": [],
   "source": [
    "import xarray as xr\n",
    "import numpy as np\n",
    "import matplotlib.pyplot as plt\n",
    "import cartopy.crs as ccrs\n",
    "import cartopy.feature as cfeature\n",
    "import datetime\n",
    "from geopandas import GeoDataFrame\n",
    "from shapely.geometry import Point\n",
    "from dateutil.relativedelta import relativedelta\n",
    "from datetime import datetime"
   ]
  },
  {
   "cell_type": "markdown",
   "id": "f41f95b2",
   "metadata": {
    "pycharm": {
     "name": "#%% md\n"
    }
   },
   "source": [
    "## Import dataset and delete unneccessary variables"
   ]
  },
  {
   "cell_type": "code",
   "execution_count": 3,
   "id": "0319b640-e71b-430e-af7a-f1900a63ef5d",
   "metadata": {
    "jupyter": {
     "outputs_hidden": {
      "outputs_hidden": true
     }
    },
    "pycharm": {
     "name": "#%%\n"
    },
    "tags": []
   },
   "outputs": [],
   "source": [
    "nc_file = 'data/merged.nc'\n",
    "\n",
    "ds  = xr.open_dataset(nc_file)\n",
    "albedo = ds['cdr_surface_albedo']\n",
    "temperature = ds['cdr_surface_temperature']"
   ]
  },
  {
   "cell_type": "code",
   "execution_count": 4,
   "id": "b47b833c",
   "metadata": {
    "pycharm": {
     "name": "#%%\n"
    }
   },
   "outputs": [
    {
     "data": {
      "text/html": [
       "<div><svg style=\"position: absolute; width: 0; height: 0; overflow: hidden\">\n",
       "<defs>\n",
       "<symbol id=\"icon-database\" viewBox=\"0 0 32 32\">\n",
       "<path d=\"M16 0c-8.837 0-16 2.239-16 5v4c0 2.761 7.163 5 16 5s16-2.239 16-5v-4c0-2.761-7.163-5-16-5z\"></path>\n",
       "<path d=\"M16 17c-8.837 0-16-2.239-16-5v6c0 2.761 7.163 5 16 5s16-2.239 16-5v-6c0 2.761-7.163 5-16 5z\"></path>\n",
       "<path d=\"M16 26c-8.837 0-16-2.239-16-5v6c0 2.761 7.163 5 16 5s16-2.239 16-5v-6c0 2.761-7.163 5-16 5z\"></path>\n",
       "</symbol>\n",
       "<symbol id=\"icon-file-text2\" viewBox=\"0 0 32 32\">\n",
       "<path d=\"M28.681 7.159c-0.694-0.947-1.662-2.053-2.724-3.116s-2.169-2.030-3.116-2.724c-1.612-1.182-2.393-1.319-2.841-1.319h-15.5c-1.378 0-2.5 1.121-2.5 2.5v27c0 1.378 1.122 2.5 2.5 2.5h23c1.378 0 2.5-1.122 2.5-2.5v-19.5c0-0.448-0.137-1.23-1.319-2.841zM24.543 5.457c0.959 0.959 1.712 1.825 2.268 2.543h-4.811v-4.811c0.718 0.556 1.584 1.309 2.543 2.268zM28 29.5c0 0.271-0.229 0.5-0.5 0.5h-23c-0.271 0-0.5-0.229-0.5-0.5v-27c0-0.271 0.229-0.5 0.5-0.5 0 0 15.499-0 15.5 0v7c0 0.552 0.448 1 1 1h7v19.5z\"></path>\n",
       "<path d=\"M23 26h-14c-0.552 0-1-0.448-1-1s0.448-1 1-1h14c0.552 0 1 0.448 1 1s-0.448 1-1 1z\"></path>\n",
       "<path d=\"M23 22h-14c-0.552 0-1-0.448-1-1s0.448-1 1-1h14c0.552 0 1 0.448 1 1s-0.448 1-1 1z\"></path>\n",
       "<path d=\"M23 18h-14c-0.552 0-1-0.448-1-1s0.448-1 1-1h14c0.552 0 1 0.448 1 1s-0.448 1-1 1z\"></path>\n",
       "</symbol>\n",
       "</defs>\n",
       "</svg>\n",
       "<style>/* CSS stylesheet for displaying xarray objects in jupyterlab.\n",
       " *\n",
       " */\n",
       "\n",
       ":root {\n",
       "  --xr-font-color0: var(--jp-content-font-color0, rgba(0, 0, 0, 1));\n",
       "  --xr-font-color2: var(--jp-content-font-color2, rgba(0, 0, 0, 0.54));\n",
       "  --xr-font-color3: var(--jp-content-font-color3, rgba(0, 0, 0, 0.38));\n",
       "  --xr-border-color: var(--jp-border-color2, #e0e0e0);\n",
       "  --xr-disabled-color: var(--jp-layout-color3, #bdbdbd);\n",
       "  --xr-background-color: var(--jp-layout-color0, white);\n",
       "  --xr-background-color-row-even: var(--jp-layout-color1, white);\n",
       "  --xr-background-color-row-odd: var(--jp-layout-color2, #eeeeee);\n",
       "}\n",
       "\n",
       "html[theme=dark],\n",
       "body.vscode-dark {\n",
       "  --xr-font-color0: rgba(255, 255, 255, 1);\n",
       "  --xr-font-color2: rgba(255, 255, 255, 0.54);\n",
       "  --xr-font-color3: rgba(255, 255, 255, 0.38);\n",
       "  --xr-border-color: #1F1F1F;\n",
       "  --xr-disabled-color: #515151;\n",
       "  --xr-background-color: #111111;\n",
       "  --xr-background-color-row-even: #111111;\n",
       "  --xr-background-color-row-odd: #313131;\n",
       "}\n",
       "\n",
       ".xr-wrap {\n",
       "  display: block !important;\n",
       "  min-width: 300px;\n",
       "  max-width: 700px;\n",
       "}\n",
       "\n",
       ".xr-text-repr-fallback {\n",
       "  /* fallback to plain text repr when CSS is not injected (untrusted notebook) */\n",
       "  display: none;\n",
       "}\n",
       "\n",
       ".xr-header {\n",
       "  padding-top: 6px;\n",
       "  padding-bottom: 6px;\n",
       "  margin-bottom: 4px;\n",
       "  border-bottom: solid 1px var(--xr-border-color);\n",
       "}\n",
       "\n",
       ".xr-header > div,\n",
       ".xr-header > ul {\n",
       "  display: inline;\n",
       "  margin-top: 0;\n",
       "  margin-bottom: 0;\n",
       "}\n",
       "\n",
       ".xr-obj-type,\n",
       ".xr-array-name {\n",
       "  margin-left: 2px;\n",
       "  margin-right: 10px;\n",
       "}\n",
       "\n",
       ".xr-obj-type {\n",
       "  color: var(--xr-font-color2);\n",
       "}\n",
       "\n",
       ".xr-sections {\n",
       "  padding-left: 0 !important;\n",
       "  display: grid;\n",
       "  grid-template-columns: 150px auto auto 1fr 20px 20px;\n",
       "}\n",
       "\n",
       ".xr-section-item {\n",
       "  display: contents;\n",
       "}\n",
       "\n",
       ".xr-section-item input {\n",
       "  display: none;\n",
       "}\n",
       "\n",
       ".xr-section-item input + label {\n",
       "  color: var(--xr-disabled-color);\n",
       "}\n",
       "\n",
       ".xr-section-item input:enabled + label {\n",
       "  cursor: pointer;\n",
       "  color: var(--xr-font-color2);\n",
       "}\n",
       "\n",
       ".xr-section-item input:enabled + label:hover {\n",
       "  color: var(--xr-font-color0);\n",
       "}\n",
       "\n",
       ".xr-section-summary {\n",
       "  grid-column: 1;\n",
       "  color: var(--xr-font-color2);\n",
       "  font-weight: 500;\n",
       "}\n",
       "\n",
       ".xr-section-summary > span {\n",
       "  display: inline-block;\n",
       "  padding-left: 0.5em;\n",
       "}\n",
       "\n",
       ".xr-section-summary-in:disabled + label {\n",
       "  color: var(--xr-font-color2);\n",
       "}\n",
       "\n",
       ".xr-section-summary-in + label:before {\n",
       "  display: inline-block;\n",
       "  content: '►';\n",
       "  font-size: 11px;\n",
       "  width: 15px;\n",
       "  text-align: center;\n",
       "}\n",
       "\n",
       ".xr-section-summary-in:disabled + label:before {\n",
       "  color: var(--xr-disabled-color);\n",
       "}\n",
       "\n",
       ".xr-section-summary-in:checked + label:before {\n",
       "  content: '▼';\n",
       "}\n",
       "\n",
       ".xr-section-summary-in:checked + label > span {\n",
       "  display: none;\n",
       "}\n",
       "\n",
       ".xr-section-summary,\n",
       ".xr-section-inline-details {\n",
       "  padding-top: 4px;\n",
       "  padding-bottom: 4px;\n",
       "}\n",
       "\n",
       ".xr-section-inline-details {\n",
       "  grid-column: 2 / -1;\n",
       "}\n",
       "\n",
       ".xr-section-details {\n",
       "  display: none;\n",
       "  grid-column: 1 / -1;\n",
       "  margin-bottom: 5px;\n",
       "}\n",
       "\n",
       ".xr-section-summary-in:checked ~ .xr-section-details {\n",
       "  display: contents;\n",
       "}\n",
       "\n",
       ".xr-array-wrap {\n",
       "  grid-column: 1 / -1;\n",
       "  display: grid;\n",
       "  grid-template-columns: 20px auto;\n",
       "}\n",
       "\n",
       ".xr-array-wrap > label {\n",
       "  grid-column: 1;\n",
       "  vertical-align: top;\n",
       "}\n",
       "\n",
       ".xr-preview {\n",
       "  color: var(--xr-font-color3);\n",
       "}\n",
       "\n",
       ".xr-array-preview,\n",
       ".xr-array-data {\n",
       "  padding: 0 5px !important;\n",
       "  grid-column: 2;\n",
       "}\n",
       "\n",
       ".xr-array-data,\n",
       ".xr-array-in:checked ~ .xr-array-preview {\n",
       "  display: none;\n",
       "}\n",
       "\n",
       ".xr-array-in:checked ~ .xr-array-data,\n",
       ".xr-array-preview {\n",
       "  display: inline-block;\n",
       "}\n",
       "\n",
       ".xr-dim-list {\n",
       "  display: inline-block !important;\n",
       "  list-style: none;\n",
       "  padding: 0 !important;\n",
       "  margin: 0;\n",
       "}\n",
       "\n",
       ".xr-dim-list li {\n",
       "  display: inline-block;\n",
       "  padding: 0;\n",
       "  margin: 0;\n",
       "}\n",
       "\n",
       ".xr-dim-list:before {\n",
       "  content: '(';\n",
       "}\n",
       "\n",
       ".xr-dim-list:after {\n",
       "  content: ')';\n",
       "}\n",
       "\n",
       ".xr-dim-list li:not(:last-child):after {\n",
       "  content: ',';\n",
       "  padding-right: 5px;\n",
       "}\n",
       "\n",
       ".xr-has-index {\n",
       "  font-weight: bold;\n",
       "}\n",
       "\n",
       ".xr-var-list,\n",
       ".xr-var-item {\n",
       "  display: contents;\n",
       "}\n",
       "\n",
       ".xr-var-item > div,\n",
       ".xr-var-item label,\n",
       ".xr-var-item > .xr-var-name span {\n",
       "  background-color: var(--xr-background-color-row-even);\n",
       "  margin-bottom: 0;\n",
       "}\n",
       "\n",
       ".xr-var-item > .xr-var-name:hover span {\n",
       "  padding-right: 5px;\n",
       "}\n",
       "\n",
       ".xr-var-list > li:nth-child(odd) > div,\n",
       ".xr-var-list > li:nth-child(odd) > label,\n",
       ".xr-var-list > li:nth-child(odd) > .xr-var-name span {\n",
       "  background-color: var(--xr-background-color-row-odd);\n",
       "}\n",
       "\n",
       ".xr-var-name {\n",
       "  grid-column: 1;\n",
       "}\n",
       "\n",
       ".xr-var-dims {\n",
       "  grid-column: 2;\n",
       "}\n",
       "\n",
       ".xr-var-dtype {\n",
       "  grid-column: 3;\n",
       "  text-align: right;\n",
       "  color: var(--xr-font-color2);\n",
       "}\n",
       "\n",
       ".xr-var-preview {\n",
       "  grid-column: 4;\n",
       "}\n",
       "\n",
       ".xr-var-name,\n",
       ".xr-var-dims,\n",
       ".xr-var-dtype,\n",
       ".xr-preview,\n",
       ".xr-attrs dt {\n",
       "  white-space: nowrap;\n",
       "  overflow: hidden;\n",
       "  text-overflow: ellipsis;\n",
       "  padding-right: 10px;\n",
       "}\n",
       "\n",
       ".xr-var-name:hover,\n",
       ".xr-var-dims:hover,\n",
       ".xr-var-dtype:hover,\n",
       ".xr-attrs dt:hover {\n",
       "  overflow: visible;\n",
       "  width: auto;\n",
       "  z-index: 1;\n",
       "}\n",
       "\n",
       ".xr-var-attrs,\n",
       ".xr-var-data {\n",
       "  display: none;\n",
       "  background-color: var(--xr-background-color) !important;\n",
       "  padding-bottom: 5px !important;\n",
       "}\n",
       "\n",
       ".xr-var-attrs-in:checked ~ .xr-var-attrs,\n",
       ".xr-var-data-in:checked ~ .xr-var-data {\n",
       "  display: block;\n",
       "}\n",
       "\n",
       ".xr-var-data > table {\n",
       "  float: right;\n",
       "}\n",
       "\n",
       ".xr-var-name span,\n",
       ".xr-var-data,\n",
       ".xr-attrs {\n",
       "  padding-left: 25px !important;\n",
       "}\n",
       "\n",
       ".xr-attrs,\n",
       ".xr-var-attrs,\n",
       ".xr-var-data {\n",
       "  grid-column: 1 / -1;\n",
       "}\n",
       "\n",
       "dl.xr-attrs {\n",
       "  padding: 0;\n",
       "  margin: 0;\n",
       "  display: grid;\n",
       "  grid-template-columns: 125px auto;\n",
       "}\n",
       "\n",
       ".xr-attrs dt,\n",
       ".xr-attrs dd {\n",
       "  padding: 0;\n",
       "  margin: 0;\n",
       "  float: left;\n",
       "  padding-right: 10px;\n",
       "  width: auto;\n",
       "}\n",
       "\n",
       ".xr-attrs dt {\n",
       "  font-weight: normal;\n",
       "  grid-column: 1;\n",
       "}\n",
       "\n",
       ".xr-attrs dt:hover span {\n",
       "  display: inline-block;\n",
       "  background: var(--xr-background-color);\n",
       "  padding-right: 10px;\n",
       "}\n",
       "\n",
       ".xr-attrs dd {\n",
       "  grid-column: 2;\n",
       "  white-space: pre-wrap;\n",
       "  word-break: break-all;\n",
       "}\n",
       "\n",
       ".xr-icon-database,\n",
       ".xr-icon-file-text2 {\n",
       "  display: inline-block;\n",
       "  vertical-align: middle;\n",
       "  width: 1em;\n",
       "  height: 1.5em !important;\n",
       "  stroke-width: 0;\n",
       "  stroke: currentColor;\n",
       "  fill: currentColor;\n",
       "}\n",
       "</style><pre class='xr-text-repr-fallback'>&lt;xarray.DataArray &#x27;cdr_surface_albedo&#x27; (time: 21668, columns: 321, rows: 321)&gt;\n",
       "[2232692388 values with dtype=float32]\n",
       "Coordinates:\n",
       "  * time       (time) datetime64[ns] 1990-01-02T02:00:00 ... 2020-01-01\n",
       "    longitude  (columns, rows) float32 ...\n",
       "    latitude   (columns, rows) float32 ...\n",
       "Dimensions without coordinates: columns, rows\n",
       "Attributes:\n",
       "    standard_name:          surface_albedo\n",
       "    long_name:              NOAA CDR of surface broadband albedo\n",
       "    units:                  1\n",
       "    coverage_content_type:  physicalMeasurement</pre><div class='xr-wrap' style='display:none'><div class='xr-header'><div class='xr-obj-type'>xarray.DataArray</div><div class='xr-array-name'>'cdr_surface_albedo'</div><ul class='xr-dim-list'><li><span class='xr-has-index'>time</span>: 21668</li><li><span>columns</span>: 321</li><li><span>rows</span>: 321</li></ul></div><ul class='xr-sections'><li class='xr-section-item'><div class='xr-array-wrap'><input id='section-ee096725-81d4-41c5-8191-58fa322d8b26' class='xr-array-in' type='checkbox' checked><label for='section-ee096725-81d4-41c5-8191-58fa322d8b26' title='Show/hide data repr'><svg class='icon xr-icon-database'><use xlink:href='#icon-database'></use></svg></label><div class='xr-array-preview xr-preview'><span>...</span></div><div class='xr-array-data'><pre>[2232692388 values with dtype=float32]</pre></div></div></li><li class='xr-section-item'><input id='section-ef911278-eafa-4f5c-a6f2-eacb4d6214c3' class='xr-section-summary-in' type='checkbox'  checked><label for='section-ef911278-eafa-4f5c-a6f2-eacb4d6214c3' class='xr-section-summary' >Coordinates: <span>(3)</span></label><div class='xr-section-inline-details'></div><div class='xr-section-details'><ul class='xr-var-list'><li class='xr-var-item'><div class='xr-var-name'><span class='xr-has-index'>time</span></div><div class='xr-var-dims'>(time)</div><div class='xr-var-dtype'>datetime64[ns]</div><div class='xr-var-preview xr-preview'>1990-01-02T02:00:00 ... 2020-01-01</div><input id='attrs-d8f359d9-0255-4bca-8e32-e062b587e488' class='xr-var-attrs-in' type='checkbox' ><label for='attrs-d8f359d9-0255-4bca-8e32-e062b587e488' title='Show/Hide attributes'><svg class='icon xr-icon-file-text2'><use xlink:href='#icon-file-text2'></use></svg></label><input id='data-18e0bc0e-019c-49d0-9132-1851ff491cfe' class='xr-var-data-in' type='checkbox'><label for='data-18e0bc0e-019c-49d0-9132-1851ff491cfe' title='Show/Hide data repr'><svg class='icon xr-icon-database'><use xlink:href='#icon-database'></use></svg></label><div class='xr-var-attrs'><dl class='xr-attrs'><dt><span>standard_name :</span></dt><dd>time</dd><dt><span>long_name :</span></dt><dd>days since 1990-01-01 00:00:00</dd><dt><span>axis :</span></dt><dd>T</dd></dl></div><div class='xr-var-data'><pre>array([&#x27;1990-01-02T02:00:00.000000000&#x27;, &#x27;1990-01-02T14:00:00.000000000&#x27;,\n",
       "       &#x27;1990-01-03T02:00:00.000000000&#x27;, ..., &#x27;2019-12-31T00:00:00.000000000&#x27;,\n",
       "       &#x27;2020-01-01T00:00:00.000000000&#x27;, &#x27;2020-01-01T00:00:00.000000000&#x27;],\n",
       "      dtype=&#x27;datetime64[ns]&#x27;)</pre></div></li><li class='xr-var-item'><div class='xr-var-name'><span>longitude</span></div><div class='xr-var-dims'>(columns, rows)</div><div class='xr-var-dtype'>float32</div><div class='xr-var-preview xr-preview'>...</div><input id='attrs-cd394efa-f20a-438f-95fd-c60aa5f62cf0' class='xr-var-attrs-in' type='checkbox' ><label for='attrs-cd394efa-f20a-438f-95fd-c60aa5f62cf0' title='Show/Hide attributes'><svg class='icon xr-icon-file-text2'><use xlink:href='#icon-file-text2'></use></svg></label><input id='data-b4e961dd-9e9d-4fb4-8cea-498e9e921334' class='xr-var-data-in' type='checkbox'><label for='data-b4e961dd-9e9d-4fb4-8cea-498e9e921334' title='Show/Hide data repr'><svg class='icon xr-icon-database'><use xlink:href='#icon-database'></use></svg></label><div class='xr-var-attrs'><dl class='xr-attrs'><dt><span>standard_name :</span></dt><dd>longitude</dd><dt><span>long_name :</span></dt><dd>longitude of EASE Grid 25km resolution in the polar regions, Arctic (361,361), Antarctic (321,321)</dd><dt><span>units :</span></dt><dd>degrees_east</dd><dt><span>_CoordinateAxisType :</span></dt><dd>Lon</dd></dl></div><div class='xr-var-data'><pre>[103041 values with dtype=float32]</pre></div></li><li class='xr-var-item'><div class='xr-var-name'><span>latitude</span></div><div class='xr-var-dims'>(columns, rows)</div><div class='xr-var-dtype'>float32</div><div class='xr-var-preview xr-preview'>...</div><input id='attrs-7402e765-2fbb-40a0-aef4-5659a7b94b92' class='xr-var-attrs-in' type='checkbox' ><label for='attrs-7402e765-2fbb-40a0-aef4-5659a7b94b92' title='Show/Hide attributes'><svg class='icon xr-icon-file-text2'><use xlink:href='#icon-file-text2'></use></svg></label><input id='data-b14a8d15-f6fc-4f3c-8d7a-996e3def0498' class='xr-var-data-in' type='checkbox'><label for='data-b14a8d15-f6fc-4f3c-8d7a-996e3def0498' title='Show/Hide data repr'><svg class='icon xr-icon-database'><use xlink:href='#icon-database'></use></svg></label><div class='xr-var-attrs'><dl class='xr-attrs'><dt><span>standard_name :</span></dt><dd>latitude</dd><dt><span>long_name :</span></dt><dd>latitude of EASE Grid 25km resolution in the polar regionsArctic (361,361), Antarctic (321,321)</dd><dt><span>units :</span></dt><dd>degrees_north</dd><dt><span>_CoordinateAxisType :</span></dt><dd>Lat</dd></dl></div><div class='xr-var-data'><pre>[103041 values with dtype=float32]</pre></div></li></ul></div></li><li class='xr-section-item'><input id='section-a51ee946-8e8e-4e50-819a-2d121e893df5' class='xr-section-summary-in' type='checkbox'  checked><label for='section-a51ee946-8e8e-4e50-819a-2d121e893df5' class='xr-section-summary' >Attributes: <span>(4)</span></label><div class='xr-section-inline-details'></div><div class='xr-section-details'><dl class='xr-attrs'><dt><span>standard_name :</span></dt><dd>surface_albedo</dd><dt><span>long_name :</span></dt><dd>NOAA CDR of surface broadband albedo</dd><dt><span>units :</span></dt><dd>1</dd><dt><span>coverage_content_type :</span></dt><dd>physicalMeasurement</dd></dl></div></li></ul></div></div>"
      ],
      "text/plain": [
       "<xarray.DataArray 'cdr_surface_albedo' (time: 21668, columns: 321, rows: 321)>\n",
       "[2232692388 values with dtype=float32]\n",
       "Coordinates:\n",
       "  * time       (time) datetime64[ns] 1990-01-02T02:00:00 ... 2020-01-01\n",
       "    longitude  (columns, rows) float32 ...\n",
       "    latitude   (columns, rows) float32 ...\n",
       "Dimensions without coordinates: columns, rows\n",
       "Attributes:\n",
       "    standard_name:          surface_albedo\n",
       "    long_name:              NOAA CDR of surface broadband albedo\n",
       "    units:                  1\n",
       "    coverage_content_type:  physicalMeasurement"
      ]
     },
     "execution_count": 4,
     "metadata": {},
     "output_type": "execute_result"
    }
   ],
   "source": [
    "albedo"
   ]
  },
  {
   "cell_type": "code",
   "execution_count": 5,
   "id": "be6a0969",
   "metadata": {
    "pycharm": {
     "name": "#%%\n"
    }
   },
   "outputs": [
    {
     "data": {
      "text/html": [
       "<div><svg style=\"position: absolute; width: 0; height: 0; overflow: hidden\">\n",
       "<defs>\n",
       "<symbol id=\"icon-database\" viewBox=\"0 0 32 32\">\n",
       "<path d=\"M16 0c-8.837 0-16 2.239-16 5v4c0 2.761 7.163 5 16 5s16-2.239 16-5v-4c0-2.761-7.163-5-16-5z\"></path>\n",
       "<path d=\"M16 17c-8.837 0-16-2.239-16-5v6c0 2.761 7.163 5 16 5s16-2.239 16-5v-6c0 2.761-7.163 5-16 5z\"></path>\n",
       "<path d=\"M16 26c-8.837 0-16-2.239-16-5v6c0 2.761 7.163 5 16 5s16-2.239 16-5v-6c0 2.761-7.163 5-16 5z\"></path>\n",
       "</symbol>\n",
       "<symbol id=\"icon-file-text2\" viewBox=\"0 0 32 32\">\n",
       "<path d=\"M28.681 7.159c-0.694-0.947-1.662-2.053-2.724-3.116s-2.169-2.030-3.116-2.724c-1.612-1.182-2.393-1.319-2.841-1.319h-15.5c-1.378 0-2.5 1.121-2.5 2.5v27c0 1.378 1.122 2.5 2.5 2.5h23c1.378 0 2.5-1.122 2.5-2.5v-19.5c0-0.448-0.137-1.23-1.319-2.841zM24.543 5.457c0.959 0.959 1.712 1.825 2.268 2.543h-4.811v-4.811c0.718 0.556 1.584 1.309 2.543 2.268zM28 29.5c0 0.271-0.229 0.5-0.5 0.5h-23c-0.271 0-0.5-0.229-0.5-0.5v-27c0-0.271 0.229-0.5 0.5-0.5 0 0 15.499-0 15.5 0v7c0 0.552 0.448 1 1 1h7v19.5z\"></path>\n",
       "<path d=\"M23 26h-14c-0.552 0-1-0.448-1-1s0.448-1 1-1h14c0.552 0 1 0.448 1 1s-0.448 1-1 1z\"></path>\n",
       "<path d=\"M23 22h-14c-0.552 0-1-0.448-1-1s0.448-1 1-1h14c0.552 0 1 0.448 1 1s-0.448 1-1 1z\"></path>\n",
       "<path d=\"M23 18h-14c-0.552 0-1-0.448-1-1s0.448-1 1-1h14c0.552 0 1 0.448 1 1s-0.448 1-1 1z\"></path>\n",
       "</symbol>\n",
       "</defs>\n",
       "</svg>\n",
       "<style>/* CSS stylesheet for displaying xarray objects in jupyterlab.\n",
       " *\n",
       " */\n",
       "\n",
       ":root {\n",
       "  --xr-font-color0: var(--jp-content-font-color0, rgba(0, 0, 0, 1));\n",
       "  --xr-font-color2: var(--jp-content-font-color2, rgba(0, 0, 0, 0.54));\n",
       "  --xr-font-color3: var(--jp-content-font-color3, rgba(0, 0, 0, 0.38));\n",
       "  --xr-border-color: var(--jp-border-color2, #e0e0e0);\n",
       "  --xr-disabled-color: var(--jp-layout-color3, #bdbdbd);\n",
       "  --xr-background-color: var(--jp-layout-color0, white);\n",
       "  --xr-background-color-row-even: var(--jp-layout-color1, white);\n",
       "  --xr-background-color-row-odd: var(--jp-layout-color2, #eeeeee);\n",
       "}\n",
       "\n",
       "html[theme=dark],\n",
       "body.vscode-dark {\n",
       "  --xr-font-color0: rgba(255, 255, 255, 1);\n",
       "  --xr-font-color2: rgba(255, 255, 255, 0.54);\n",
       "  --xr-font-color3: rgba(255, 255, 255, 0.38);\n",
       "  --xr-border-color: #1F1F1F;\n",
       "  --xr-disabled-color: #515151;\n",
       "  --xr-background-color: #111111;\n",
       "  --xr-background-color-row-even: #111111;\n",
       "  --xr-background-color-row-odd: #313131;\n",
       "}\n",
       "\n",
       ".xr-wrap {\n",
       "  display: block !important;\n",
       "  min-width: 300px;\n",
       "  max-width: 700px;\n",
       "}\n",
       "\n",
       ".xr-text-repr-fallback {\n",
       "  /* fallback to plain text repr when CSS is not injected (untrusted notebook) */\n",
       "  display: none;\n",
       "}\n",
       "\n",
       ".xr-header {\n",
       "  padding-top: 6px;\n",
       "  padding-bottom: 6px;\n",
       "  margin-bottom: 4px;\n",
       "  border-bottom: solid 1px var(--xr-border-color);\n",
       "}\n",
       "\n",
       ".xr-header > div,\n",
       ".xr-header > ul {\n",
       "  display: inline;\n",
       "  margin-top: 0;\n",
       "  margin-bottom: 0;\n",
       "}\n",
       "\n",
       ".xr-obj-type,\n",
       ".xr-array-name {\n",
       "  margin-left: 2px;\n",
       "  margin-right: 10px;\n",
       "}\n",
       "\n",
       ".xr-obj-type {\n",
       "  color: var(--xr-font-color2);\n",
       "}\n",
       "\n",
       ".xr-sections {\n",
       "  padding-left: 0 !important;\n",
       "  display: grid;\n",
       "  grid-template-columns: 150px auto auto 1fr 20px 20px;\n",
       "}\n",
       "\n",
       ".xr-section-item {\n",
       "  display: contents;\n",
       "}\n",
       "\n",
       ".xr-section-item input {\n",
       "  display: none;\n",
       "}\n",
       "\n",
       ".xr-section-item input + label {\n",
       "  color: var(--xr-disabled-color);\n",
       "}\n",
       "\n",
       ".xr-section-item input:enabled + label {\n",
       "  cursor: pointer;\n",
       "  color: var(--xr-font-color2);\n",
       "}\n",
       "\n",
       ".xr-section-item input:enabled + label:hover {\n",
       "  color: var(--xr-font-color0);\n",
       "}\n",
       "\n",
       ".xr-section-summary {\n",
       "  grid-column: 1;\n",
       "  color: var(--xr-font-color2);\n",
       "  font-weight: 500;\n",
       "}\n",
       "\n",
       ".xr-section-summary > span {\n",
       "  display: inline-block;\n",
       "  padding-left: 0.5em;\n",
       "}\n",
       "\n",
       ".xr-section-summary-in:disabled + label {\n",
       "  color: var(--xr-font-color2);\n",
       "}\n",
       "\n",
       ".xr-section-summary-in + label:before {\n",
       "  display: inline-block;\n",
       "  content: '►';\n",
       "  font-size: 11px;\n",
       "  width: 15px;\n",
       "  text-align: center;\n",
       "}\n",
       "\n",
       ".xr-section-summary-in:disabled + label:before {\n",
       "  color: var(--xr-disabled-color);\n",
       "}\n",
       "\n",
       ".xr-section-summary-in:checked + label:before {\n",
       "  content: '▼';\n",
       "}\n",
       "\n",
       ".xr-section-summary-in:checked + label > span {\n",
       "  display: none;\n",
       "}\n",
       "\n",
       ".xr-section-summary,\n",
       ".xr-section-inline-details {\n",
       "  padding-top: 4px;\n",
       "  padding-bottom: 4px;\n",
       "}\n",
       "\n",
       ".xr-section-inline-details {\n",
       "  grid-column: 2 / -1;\n",
       "}\n",
       "\n",
       ".xr-section-details {\n",
       "  display: none;\n",
       "  grid-column: 1 / -1;\n",
       "  margin-bottom: 5px;\n",
       "}\n",
       "\n",
       ".xr-section-summary-in:checked ~ .xr-section-details {\n",
       "  display: contents;\n",
       "}\n",
       "\n",
       ".xr-array-wrap {\n",
       "  grid-column: 1 / -1;\n",
       "  display: grid;\n",
       "  grid-template-columns: 20px auto;\n",
       "}\n",
       "\n",
       ".xr-array-wrap > label {\n",
       "  grid-column: 1;\n",
       "  vertical-align: top;\n",
       "}\n",
       "\n",
       ".xr-preview {\n",
       "  color: var(--xr-font-color3);\n",
       "}\n",
       "\n",
       ".xr-array-preview,\n",
       ".xr-array-data {\n",
       "  padding: 0 5px !important;\n",
       "  grid-column: 2;\n",
       "}\n",
       "\n",
       ".xr-array-data,\n",
       ".xr-array-in:checked ~ .xr-array-preview {\n",
       "  display: none;\n",
       "}\n",
       "\n",
       ".xr-array-in:checked ~ .xr-array-data,\n",
       ".xr-array-preview {\n",
       "  display: inline-block;\n",
       "}\n",
       "\n",
       ".xr-dim-list {\n",
       "  display: inline-block !important;\n",
       "  list-style: none;\n",
       "  padding: 0 !important;\n",
       "  margin: 0;\n",
       "}\n",
       "\n",
       ".xr-dim-list li {\n",
       "  display: inline-block;\n",
       "  padding: 0;\n",
       "  margin: 0;\n",
       "}\n",
       "\n",
       ".xr-dim-list:before {\n",
       "  content: '(';\n",
       "}\n",
       "\n",
       ".xr-dim-list:after {\n",
       "  content: ')';\n",
       "}\n",
       "\n",
       ".xr-dim-list li:not(:last-child):after {\n",
       "  content: ',';\n",
       "  padding-right: 5px;\n",
       "}\n",
       "\n",
       ".xr-has-index {\n",
       "  font-weight: bold;\n",
       "}\n",
       "\n",
       ".xr-var-list,\n",
       ".xr-var-item {\n",
       "  display: contents;\n",
       "}\n",
       "\n",
       ".xr-var-item > div,\n",
       ".xr-var-item label,\n",
       ".xr-var-item > .xr-var-name span {\n",
       "  background-color: var(--xr-background-color-row-even);\n",
       "  margin-bottom: 0;\n",
       "}\n",
       "\n",
       ".xr-var-item > .xr-var-name:hover span {\n",
       "  padding-right: 5px;\n",
       "}\n",
       "\n",
       ".xr-var-list > li:nth-child(odd) > div,\n",
       ".xr-var-list > li:nth-child(odd) > label,\n",
       ".xr-var-list > li:nth-child(odd) > .xr-var-name span {\n",
       "  background-color: var(--xr-background-color-row-odd);\n",
       "}\n",
       "\n",
       ".xr-var-name {\n",
       "  grid-column: 1;\n",
       "}\n",
       "\n",
       ".xr-var-dims {\n",
       "  grid-column: 2;\n",
       "}\n",
       "\n",
       ".xr-var-dtype {\n",
       "  grid-column: 3;\n",
       "  text-align: right;\n",
       "  color: var(--xr-font-color2);\n",
       "}\n",
       "\n",
       ".xr-var-preview {\n",
       "  grid-column: 4;\n",
       "}\n",
       "\n",
       ".xr-var-name,\n",
       ".xr-var-dims,\n",
       ".xr-var-dtype,\n",
       ".xr-preview,\n",
       ".xr-attrs dt {\n",
       "  white-space: nowrap;\n",
       "  overflow: hidden;\n",
       "  text-overflow: ellipsis;\n",
       "  padding-right: 10px;\n",
       "}\n",
       "\n",
       ".xr-var-name:hover,\n",
       ".xr-var-dims:hover,\n",
       ".xr-var-dtype:hover,\n",
       ".xr-attrs dt:hover {\n",
       "  overflow: visible;\n",
       "  width: auto;\n",
       "  z-index: 1;\n",
       "}\n",
       "\n",
       ".xr-var-attrs,\n",
       ".xr-var-data {\n",
       "  display: none;\n",
       "  background-color: var(--xr-background-color) !important;\n",
       "  padding-bottom: 5px !important;\n",
       "}\n",
       "\n",
       ".xr-var-attrs-in:checked ~ .xr-var-attrs,\n",
       ".xr-var-data-in:checked ~ .xr-var-data {\n",
       "  display: block;\n",
       "}\n",
       "\n",
       ".xr-var-data > table {\n",
       "  float: right;\n",
       "}\n",
       "\n",
       ".xr-var-name span,\n",
       ".xr-var-data,\n",
       ".xr-attrs {\n",
       "  padding-left: 25px !important;\n",
       "}\n",
       "\n",
       ".xr-attrs,\n",
       ".xr-var-attrs,\n",
       ".xr-var-data {\n",
       "  grid-column: 1 / -1;\n",
       "}\n",
       "\n",
       "dl.xr-attrs {\n",
       "  padding: 0;\n",
       "  margin: 0;\n",
       "  display: grid;\n",
       "  grid-template-columns: 125px auto;\n",
       "}\n",
       "\n",
       ".xr-attrs dt,\n",
       ".xr-attrs dd {\n",
       "  padding: 0;\n",
       "  margin: 0;\n",
       "  float: left;\n",
       "  padding-right: 10px;\n",
       "  width: auto;\n",
       "}\n",
       "\n",
       ".xr-attrs dt {\n",
       "  font-weight: normal;\n",
       "  grid-column: 1;\n",
       "}\n",
       "\n",
       ".xr-attrs dt:hover span {\n",
       "  display: inline-block;\n",
       "  background: var(--xr-background-color);\n",
       "  padding-right: 10px;\n",
       "}\n",
       "\n",
       ".xr-attrs dd {\n",
       "  grid-column: 2;\n",
       "  white-space: pre-wrap;\n",
       "  word-break: break-all;\n",
       "}\n",
       "\n",
       ".xr-icon-database,\n",
       ".xr-icon-file-text2 {\n",
       "  display: inline-block;\n",
       "  vertical-align: middle;\n",
       "  width: 1em;\n",
       "  height: 1.5em !important;\n",
       "  stroke-width: 0;\n",
       "  stroke: currentColor;\n",
       "  fill: currentColor;\n",
       "}\n",
       "</style><pre class='xr-text-repr-fallback'>&lt;xarray.DataArray &#x27;cdr_surface_temperature&#x27; (time: 21668, columns: 321,\n",
       "                                             rows: 321)&gt;\n",
       "[2232692388 values with dtype=float32]\n",
       "Coordinates:\n",
       "  * time       (time) datetime64[ns] 1990-01-02T02:00:00 ... 2020-01-01\n",
       "    longitude  (columns, rows) float32 ...\n",
       "    latitude   (columns, rows) float32 ...\n",
       "Dimensions without coordinates: columns, rows\n",
       "Attributes:\n",
       "    standard_name:          surface_temperature\n",
       "    long_name:              NOAA CDR of surface skin temperature\n",
       "    units:                  K\n",
       "    coverage_content_type:  physicalMeasurement</pre><div class='xr-wrap' style='display:none'><div class='xr-header'><div class='xr-obj-type'>xarray.DataArray</div><div class='xr-array-name'>'cdr_surface_temperature'</div><ul class='xr-dim-list'><li><span class='xr-has-index'>time</span>: 21668</li><li><span>columns</span>: 321</li><li><span>rows</span>: 321</li></ul></div><ul class='xr-sections'><li class='xr-section-item'><div class='xr-array-wrap'><input id='section-4eb52ef7-44d4-42c5-9443-e11525dcd7b7' class='xr-array-in' type='checkbox' checked><label for='section-4eb52ef7-44d4-42c5-9443-e11525dcd7b7' title='Show/hide data repr'><svg class='icon xr-icon-database'><use xlink:href='#icon-database'></use></svg></label><div class='xr-array-preview xr-preview'><span>...</span></div><div class='xr-array-data'><pre>[2232692388 values with dtype=float32]</pre></div></div></li><li class='xr-section-item'><input id='section-be6c4748-9f66-4a3d-a2a4-0811bc3747e9' class='xr-section-summary-in' type='checkbox'  checked><label for='section-be6c4748-9f66-4a3d-a2a4-0811bc3747e9' class='xr-section-summary' >Coordinates: <span>(3)</span></label><div class='xr-section-inline-details'></div><div class='xr-section-details'><ul class='xr-var-list'><li class='xr-var-item'><div class='xr-var-name'><span class='xr-has-index'>time</span></div><div class='xr-var-dims'>(time)</div><div class='xr-var-dtype'>datetime64[ns]</div><div class='xr-var-preview xr-preview'>1990-01-02T02:00:00 ... 2020-01-01</div><input id='attrs-b12f63f4-966b-44b5-81e8-c5487b244753' class='xr-var-attrs-in' type='checkbox' ><label for='attrs-b12f63f4-966b-44b5-81e8-c5487b244753' title='Show/Hide attributes'><svg class='icon xr-icon-file-text2'><use xlink:href='#icon-file-text2'></use></svg></label><input id='data-a9101464-48fd-439a-89cd-3f8fd12ff133' class='xr-var-data-in' type='checkbox'><label for='data-a9101464-48fd-439a-89cd-3f8fd12ff133' title='Show/Hide data repr'><svg class='icon xr-icon-database'><use xlink:href='#icon-database'></use></svg></label><div class='xr-var-attrs'><dl class='xr-attrs'><dt><span>standard_name :</span></dt><dd>time</dd><dt><span>long_name :</span></dt><dd>days since 1990-01-01 00:00:00</dd><dt><span>axis :</span></dt><dd>T</dd></dl></div><div class='xr-var-data'><pre>array([&#x27;1990-01-02T02:00:00.000000000&#x27;, &#x27;1990-01-02T14:00:00.000000000&#x27;,\n",
       "       &#x27;1990-01-03T02:00:00.000000000&#x27;, ..., &#x27;2019-12-31T00:00:00.000000000&#x27;,\n",
       "       &#x27;2020-01-01T00:00:00.000000000&#x27;, &#x27;2020-01-01T00:00:00.000000000&#x27;],\n",
       "      dtype=&#x27;datetime64[ns]&#x27;)</pre></div></li><li class='xr-var-item'><div class='xr-var-name'><span>longitude</span></div><div class='xr-var-dims'>(columns, rows)</div><div class='xr-var-dtype'>float32</div><div class='xr-var-preview xr-preview'>...</div><input id='attrs-dec47f24-802b-4d1c-879c-2f6328ea4108' class='xr-var-attrs-in' type='checkbox' ><label for='attrs-dec47f24-802b-4d1c-879c-2f6328ea4108' title='Show/Hide attributes'><svg class='icon xr-icon-file-text2'><use xlink:href='#icon-file-text2'></use></svg></label><input id='data-b1ce9446-d196-45c9-8208-ae11e2470658' class='xr-var-data-in' type='checkbox'><label for='data-b1ce9446-d196-45c9-8208-ae11e2470658' title='Show/Hide data repr'><svg class='icon xr-icon-database'><use xlink:href='#icon-database'></use></svg></label><div class='xr-var-attrs'><dl class='xr-attrs'><dt><span>standard_name :</span></dt><dd>longitude</dd><dt><span>long_name :</span></dt><dd>longitude of EASE Grid 25km resolution in the polar regions, Arctic (361,361), Antarctic (321,321)</dd><dt><span>units :</span></dt><dd>degrees_east</dd><dt><span>_CoordinateAxisType :</span></dt><dd>Lon</dd></dl></div><div class='xr-var-data'><pre>[103041 values with dtype=float32]</pre></div></li><li class='xr-var-item'><div class='xr-var-name'><span>latitude</span></div><div class='xr-var-dims'>(columns, rows)</div><div class='xr-var-dtype'>float32</div><div class='xr-var-preview xr-preview'>...</div><input id='attrs-5e5b0454-d41b-4066-aba4-0507e45911b7' class='xr-var-attrs-in' type='checkbox' ><label for='attrs-5e5b0454-d41b-4066-aba4-0507e45911b7' title='Show/Hide attributes'><svg class='icon xr-icon-file-text2'><use xlink:href='#icon-file-text2'></use></svg></label><input id='data-d15770ba-020a-4d01-a2e1-92cafb1d219a' class='xr-var-data-in' type='checkbox'><label for='data-d15770ba-020a-4d01-a2e1-92cafb1d219a' title='Show/Hide data repr'><svg class='icon xr-icon-database'><use xlink:href='#icon-database'></use></svg></label><div class='xr-var-attrs'><dl class='xr-attrs'><dt><span>standard_name :</span></dt><dd>latitude</dd><dt><span>long_name :</span></dt><dd>latitude of EASE Grid 25km resolution in the polar regionsArctic (361,361), Antarctic (321,321)</dd><dt><span>units :</span></dt><dd>degrees_north</dd><dt><span>_CoordinateAxisType :</span></dt><dd>Lat</dd></dl></div><div class='xr-var-data'><pre>[103041 values with dtype=float32]</pre></div></li></ul></div></li><li class='xr-section-item'><input id='section-909923ba-75d2-49fe-ba06-2ce54948cb11' class='xr-section-summary-in' type='checkbox'  checked><label for='section-909923ba-75d2-49fe-ba06-2ce54948cb11' class='xr-section-summary' >Attributes: <span>(4)</span></label><div class='xr-section-inline-details'></div><div class='xr-section-details'><dl class='xr-attrs'><dt><span>standard_name :</span></dt><dd>surface_temperature</dd><dt><span>long_name :</span></dt><dd>NOAA CDR of surface skin temperature</dd><dt><span>units :</span></dt><dd>K</dd><dt><span>coverage_content_type :</span></dt><dd>physicalMeasurement</dd></dl></div></li></ul></div></div>"
      ],
      "text/plain": [
       "<xarray.DataArray 'cdr_surface_temperature' (time: 21668, columns: 321,\n",
       "                                             rows: 321)>\n",
       "[2232692388 values with dtype=float32]\n",
       "Coordinates:\n",
       "  * time       (time) datetime64[ns] 1990-01-02T02:00:00 ... 2020-01-01\n",
       "    longitude  (columns, rows) float32 ...\n",
       "    latitude   (columns, rows) float32 ...\n",
       "Dimensions without coordinates: columns, rows\n",
       "Attributes:\n",
       "    standard_name:          surface_temperature\n",
       "    long_name:              NOAA CDR of surface skin temperature\n",
       "    units:                  K\n",
       "    coverage_content_type:  physicalMeasurement"
      ]
     },
     "execution_count": 5,
     "metadata": {},
     "output_type": "execute_result"
    }
   ],
   "source": [
    "temperature"
   ]
  },
  {
   "cell_type": "code",
   "execution_count": 11,
   "id": "2b03c240",
   "metadata": {
    "pycharm": {
     "name": "#%%\n"
    }
   },
   "outputs": [],
   "source": [
    "del nc_file\n",
    "del ds"
   ]
  },
  {
   "cell_type": "markdown",
   "id": "72f65c49",
   "metadata": {
    "pycharm": {
     "name": "#%% md\n"
    }
   },
   "source": [
    "## Clean and filter **surface albedo** data, and convert into pandas GeoDataFrame"
   ]
  },
  {
   "cell_type": "code",
   "execution_count": 6,
   "id": "efad89c8",
   "metadata": {
    "pycharm": {
     "name": "#%%\n"
    }
   },
   "outputs": [],
   "source": [
    "df_albedo = albedo.to_dataframe()"
   ]
  },
  {
   "cell_type": "code",
   "execution_count": 7,
   "id": "c05dea86",
   "metadata": {
    "pycharm": {
     "name": "#%%\n"
    }
   },
   "outputs": [],
   "source": [
    "df_albedo_loc = df_albedo[\n",
    "    (df_albedo['longitude'] >= 51.670) & \n",
    "    (df_albedo['longitude'] <= 57.725) & \n",
    "    (df_albedo['latitude'] >= -82.586) & \n",
    "    (df_albedo['latitude'] <= -81.762) & \n",
    "    (df_albedo['cdr_surface_albedo'] != 'NaN')]"
   ]
  },
  {
   "cell_type": "code",
   "execution_count": 8,
   "id": "b5ea1b8f",
   "metadata": {
    "pycharm": {
     "name": "#%%\n"
    }
   },
   "outputs": [],
   "source": [
    "geometry = [Point(xy) for xy in zip(df_albedo_loc['longitude'], df_albedo_loc['latitude'])]\n",
    "gdf_albedo_loc = GeoDataFrame(df_albedo_loc, geometry=geometry)\n",
    "gdf_albedo_loc = gdf_albedo_loc.drop(columns=['longitude', 'latitude'])"
   ]
  },
  {
   "cell_type": "code",
   "execution_count": 9,
   "id": "a7758473",
   "metadata": {
    "pycharm": {
     "name": "#%%\n"
    }
   },
   "outputs": [
    {
     "name": "stdout",
     "output_type": "stream",
     "text": [
      "<class 'geopandas.geodataframe.GeoDataFrame'>\n",
      "MultiIndex: 303352 entries, (Timestamp('1990-01-02 02:00:00'), 138, 189) to (Timestamp('2020-01-01 00:00:00'), 142, 189)\n",
      "Data columns (total 2 columns):\n",
      " #   Column              Non-Null Count   Dtype   \n",
      "---  ------              --------------   -----   \n",
      " 0   cdr_surface_albedo  112830 non-null  float32 \n",
      " 1   geometry            303352 non-null  geometry\n",
      "dtypes: float32(1), geometry(1)\n",
      "memory usage: 5.9 MB\n"
     ]
    }
   ],
   "source": [
    "gdf_albedo_loc.info()"
   ]
  },
  {
   "cell_type": "code",
   "execution_count": 10,
   "id": "0f75d444",
   "metadata": {
    "pycharm": {
     "name": "#%%\n"
    }
   },
   "outputs": [],
   "source": [
    "del albedo\n",
    "del df_albedo\n",
    "del df_albedo_loc\n",
    "del geometry"
   ]
  },
  {
   "cell_type": "markdown",
   "id": "a3ba7c8f",
   "metadata": {
    "pycharm": {
     "name": "#%% md\n"
    }
   },
   "source": [
    "## Clean and filter **surface temperature** data, and convert into pandas GeoDataFrame"
   ]
  },
  {
   "cell_type": "code",
   "execution_count": 12,
   "id": "7ef7e34c",
   "metadata": {
    "pycharm": {
     "name": "#%%\n"
    }
   },
   "outputs": [],
   "source": [
    "df_temperature = temperature.to_dataframe()"
   ]
  },
  {
   "cell_type": "code",
   "execution_count": 14,
   "id": "d218e94f",
   "metadata": {
    "pycharm": {
     "name": "#%%\n"
    }
   },
   "outputs": [],
   "source": [
    "df_temperature_loc = df_temperature[\n",
    "    (df_temperature['longitude'] >= 51.670) & \n",
    "    (df_temperature['longitude'] <= 57.725) & \n",
    "    (df_temperature['latitude'] >= -82.586) & \n",
    "    (df_temperature['latitude'] <= -81.762) & \n",
    "    (df_temperature['cdr_surface_temperature'] != 'NaN')]"
   ]
  },
  {
   "cell_type": "code",
   "execution_count": 15,
   "id": "362a9592",
   "metadata": {
    "pycharm": {
     "name": "#%%\n"
    }
   },
   "outputs": [],
   "source": [
    "geometry = [Point(xy) for xy in zip(df_temperature_loc['longitude'], df_temperature_loc['latitude'])]\n",
    "gdf_temperature_loc = GeoDataFrame(df_temperature_loc, geometry=geometry)\n",
    "gdf_temperature_loc = gdf_temperature_loc.drop(columns=['longitude', 'latitude'])"
   ]
  },
  {
   "cell_type": "code",
   "execution_count": 16,
   "id": "8919f7e4",
   "metadata": {
    "pycharm": {
     "name": "#%%\n"
    }
   },
   "outputs": [
    {
     "name": "stdout",
     "output_type": "stream",
     "text": [
      "<class 'geopandas.geodataframe.GeoDataFrame'>\n",
      "MultiIndex: 303352 entries, (Timestamp('1990-01-02 02:00:00'), 138, 189) to (Timestamp('2020-01-01 00:00:00'), 142, 189)\n",
      "Data columns (total 2 columns):\n",
      " #   Column                   Non-Null Count   Dtype   \n",
      "---  ------                   --------------   -----   \n",
      " 0   cdr_surface_temperature  292610 non-null  float32 \n",
      " 1   geometry                 303352 non-null  geometry\n",
      "dtypes: float32(1), geometry(1)\n",
      "memory usage: 5.9 MB\n"
     ]
    }
   ],
   "source": [
    "gdf_temperature_loc.info()"
   ]
  },
  {
   "cell_type": "code",
   "execution_count": 17,
   "id": "0ae62f94",
   "metadata": {
    "pycharm": {
     "name": "#%%\n"
    }
   },
   "outputs": [],
   "source": [
    "del temperature\n",
    "del df_temperature\n",
    "del df_temperature_loc\n",
    "del geometry"
   ]
  },
  {
   "cell_type": "markdown",
   "id": "6e036a2c",
   "metadata": {
    "pycharm": {
     "name": "#%% md\n"
    }
   },
   "source": [
    "## Merge temperature and albedo monthly mean into a dict"
   ]
  },
  {
   "cell_type": "code",
   "execution_count": 37,
   "id": "e1058b59",
   "metadata": {
    "pycharm": {
     "name": "#%%\n"
    }
   },
   "outputs": [],
   "source": [
    "start_date = datetime(1990, 1, 1)\n",
    "end_date = datetime(2019, 12, 1)"
   ]
  },
  {
   "cell_type": "code",
   "execution_count": 38,
   "id": "72f58287",
   "metadata": {
    "pycharm": {
     "name": "#%%\n"
    }
   },
   "outputs": [],
   "source": [
    "data = {}\n",
    "\n",
    "while start_date <= end_date:\n",
    "    date_str = str(start_date.strftime(\"%Y-%m\"))\n",
    "    \n",
    "    try:\n",
    "        albedo_monthly_mean = str(gdf_albedo_loc.loc[date_str, 'cdr_surface_albedo'].mean())\n",
    "        temperature_monthly_mean = str(gdf_temperature_loc.loc[date_str, 'cdr_surface_temperature'].mean())\n",
    "        if albedo_monthly_mean == 'nan' or temperature_monthly_mean == 'nan':\n",
    "            pass\n",
    "        else:\n",
    "            data[date_str] = {}\n",
    "            data[date_str]['albedo'] = albedo_monthly_mean\n",
    "            data[date_str]['temperature'] = temperature_monthly_mean\n",
    "    except:\n",
    "        pass\n",
    "    \n",
    "    start_date = start_date + relativedelta(months=1)"
   ]
  },
  {
   "cell_type": "code",
   "execution_count": 39,
   "id": "4abc5670",
   "metadata": {
    "pycharm": {
     "name": "#%%\n"
    }
   },
   "outputs": [
    {
     "data": {
      "text/plain": [
       "{'1990-01': {'albedo': '0.9344236', 'temperature': '255.69727'},\n",
       " '1990-02': {'albedo': '0.8875952', 'temperature': '247.42142'},\n",
       " '1990-03': {'albedo': '0.92373705', 'temperature': '234.41136'},\n",
       " '1990-09': {'albedo': '0.8793889', 'temperature': '221.92047'},\n",
       " '1990-10': {'albedo': '0.94586504', 'temperature': '237.13995'},\n",
       " '1990-11': {'albedo': '0.88554853', 'temperature': '249.94563'},\n",
       " '1990-12': {'albedo': '0.9345198', 'temperature': '250.31046'},\n",
       " '1991-01': {'albedo': '0.9550576', 'temperature': '249.72719'},\n",
       " '1991-02': {'albedo': '0.8051386', 'temperature': '251.27615'},\n",
       " '1991-03': {'albedo': '0.8913885', 'temperature': '233.30334'},\n",
       " '1991-09': {'albedo': '0.8086207', 'temperature': '221.1873'},\n",
       " '1991-10': {'albedo': '0.88577974', 'temperature': '232.17581'},\n",
       " '1991-11': {'albedo': '0.90987027', 'temperature': '245.1425'},\n",
       " '1991-12': {'albedo': '0.95202184', 'temperature': '245.90887'},\n",
       " '1992-01': {'albedo': '0.94819206', 'temperature': '244.80562'},\n",
       " '1992-02': {'albedo': '0.88464916', 'temperature': '245.76659'},\n",
       " '1992-03': {'albedo': '0.8222678', 'temperature': '227.36566'},\n",
       " '1992-09': {'albedo': '0.7790769', 'temperature': '219.18518'},\n",
       " '1992-10': {'albedo': '0.8379585', 'temperature': '235.08965'},\n",
       " '1992-11': {'albedo': '0.91182256', 'temperature': '245.85155'},\n",
       " '1992-12': {'albedo': '0.9302898', 'temperature': '250.47264'},\n",
       " '1993-01': {'albedo': '0.91425335', 'temperature': '247.54266'},\n",
       " '1993-02': {'albedo': '0.7893323', 'temperature': '242.06288'},\n",
       " '1993-03': {'albedo': '0.68490106', 'temperature': '230.71'},\n",
       " '1993-09': {'albedo': '0.43716666', 'temperature': '219.43584'},\n",
       " '1993-10': {'albedo': '0.677507', 'temperature': '241.56218'},\n",
       " '1993-11': {'albedo': '0.8459178', 'temperature': '247.57607'},\n",
       " '1993-12': {'albedo': '0.8793352', 'temperature': '250.59619'},\n",
       " '1994-01': {'albedo': '0.8601476', 'temperature': '249.51913'},\n",
       " '1994-02': {'albedo': '0.7237053', 'temperature': '245.28954'},\n",
       " '1994-03': {'albedo': '0.43742436', 'temperature': '238.413'},\n",
       " '1995-01': {'albedo': '0.9891054', 'temperature': '245.07005'},\n",
       " '1995-02': {'albedo': '0.91456866', 'temperature': '242.89885'},\n",
       " '1995-03': {'albedo': '0.8979121', 'temperature': '230.04291'},\n",
       " '1995-09': {'albedo': '0.9345001', 'temperature': '219.09631'},\n",
       " '1995-10': {'albedo': '0.94524515', 'temperature': '238.99123'},\n",
       " '1995-11': {'albedo': '0.886247', 'temperature': '255.54308'},\n",
       " '1995-12': {'albedo': '0.9467581', 'temperature': '256.06393'},\n",
       " '1996-01': {'albedo': '0.97168744', 'temperature': '253.07947'},\n",
       " '1996-02': {'albedo': '0.96407914', 'temperature': '246.64326'},\n",
       " '1996-03': {'albedo': '0.964489', 'temperature': '231.66898'},\n",
       " '1996-09': {'albedo': '0.9473334', 'temperature': '226.08072'},\n",
       " '1996-10': {'albedo': '0.9101095', 'temperature': '237.25076'},\n",
       " '1996-11': {'albedo': '0.8656186', 'temperature': '254.97017'},\n",
       " '1996-12': {'albedo': '0.92561746', 'temperature': '252.96266'},\n",
       " '1997-01': {'albedo': '0.9400548', 'temperature': '254.15869'},\n",
       " '1997-02': {'albedo': '0.9074548', 'temperature': '248.03073'},\n",
       " '1997-03': {'albedo': '0.908375', 'temperature': '234.0332'},\n",
       " '1997-09': {'albedo': '0.8743793', 'temperature': '220.0971'},\n",
       " '1997-10': {'albedo': '0.8869496', 'temperature': '237.01233'},\n",
       " '1997-11': {'albedo': '0.9000714', 'temperature': '248.82727'},\n",
       " '1997-12': {'albedo': '0.945712', 'temperature': '249.54471'},\n",
       " '1998-01': {'albedo': '0.92128223', 'temperature': '249.62971'},\n",
       " '1998-02': {'albedo': '0.7767418', 'temperature': '249.4495'},\n",
       " '1998-03': {'albedo': '0.80828035', 'temperature': '230.59227'},\n",
       " '1998-09': {'albedo': '0.76137835', 'temperature': '216.1191'},\n",
       " '1998-10': {'albedo': '0.8135347', 'temperature': '233.64691'},\n",
       " '1998-11': {'albedo': '0.8533242', 'temperature': '248.53958'},\n",
       " '1998-12': {'albedo': '0.94789255', 'temperature': '248.49643'},\n",
       " '1999-01': {'albedo': '0.9405', 'temperature': '247.38849'},\n",
       " '1999-02': {'albedo': '0.8385588', 'temperature': '242.82039'},\n",
       " '1999-03': {'albedo': '0.7460261', 'temperature': '229.82288'},\n",
       " '1999-09': {'albedo': '0.6594243', 'temperature': '217.67068'},\n",
       " '1999-10': {'albedo': '0.7565088', 'temperature': '235.86598'},\n",
       " '1999-11': {'albedo': '0.8587096', 'temperature': '247.66013'},\n",
       " '1999-12': {'albedo': '0.93146425', 'temperature': '250.24942'},\n",
       " '2000-01': {'albedo': '0.91433376', 'temperature': '248.61957'},\n",
       " '2000-02': {'albedo': '0.8059315', 'temperature': '242.3335'},\n",
       " '2000-03': {'albedo': '0.6151208', 'temperature': '228.18143'},\n",
       " '2000-10': {'albedo': '0.6067519', 'temperature': '234.17514'},\n",
       " '2000-11': {'albedo': '0.8275445', 'temperature': '247.85326'},\n",
       " '2000-12': {'albedo': '0.8666382', 'temperature': '247.01671'},\n",
       " '2001-01': {'albedo': '0.9689113', 'temperature': '241.00702'},\n",
       " '2001-02': {'albedo': '0.9322312', 'temperature': '237.04094'},\n",
       " '2001-03': {'albedo': '0.93626076', 'temperature': '224.74243'},\n",
       " '2001-09': {'albedo': '0.9774571', 'temperature': '221.12166'},\n",
       " '2001-10': {'albedo': '0.9874365', 'temperature': '227.42595'},\n",
       " '2001-11': {'albedo': '0.96729094', 'temperature': '235.3014'},\n",
       " '2001-12': {'albedo': '0.98407954', 'temperature': '239.83467'},\n",
       " '2002-01': {'albedo': '0.9397389', 'temperature': '241.90866'},\n",
       " '2002-02': {'albedo': '0.9410793', 'temperature': '232.00243'},\n",
       " '2002-03': {'albedo': '0.94814086', 'temperature': '226.75858'},\n",
       " '2002-09': {'albedo': '0.93977416', 'temperature': '219.13942'},\n",
       " '2002-10': {'albedo': '0.9520065', 'temperature': '230.36015'},\n",
       " '2002-11': {'albedo': '0.9458095', 'temperature': '235.8349'},\n",
       " '2002-12': {'albedo': '0.9402892', 'temperature': '238.9128'},\n",
       " '2003-01': {'albedo': '0.9459965', 'temperature': '240.03178'},\n",
       " '2003-02': {'albedo': '0.95883393', 'temperature': '239.03194'},\n",
       " '2003-03': {'albedo': '0.9660597', 'temperature': '228.22182'},\n",
       " '2003-09': {'albedo': '0.74777144', 'temperature': '222.09534'},\n",
       " '2003-10': {'albedo': '0.8713955', 'temperature': '237.8766'},\n",
       " '2003-11': {'albedo': '0.8524167', 'temperature': '248.78166'},\n",
       " '2003-12': {'albedo': '0.95753455', 'temperature': '247.95773'},\n",
       " '2004-01': {'albedo': '0.9579164', 'temperature': '247.44911'},\n",
       " '2004-02': {'albedo': '0.82660925', 'temperature': '246.95308'},\n",
       " '2004-03': {'albedo': '0.76775515', 'temperature': '235.99138'},\n",
       " '2004-09': {'albedo': '0.7290256', 'temperature': '224.43582'},\n",
       " '2004-10': {'albedo': '0.8281572', 'temperature': '238.38892'},\n",
       " '2004-11': {'albedo': '0.86806077', 'temperature': '248.2401'},\n",
       " '2004-12': {'albedo': '0.95036054', 'temperature': '247.81473'},\n",
       " '2005-01': {'albedo': '0.9339036', 'temperature': '243.705'},\n",
       " '2005-02': {'albedo': '0.7938964', 'temperature': '242.27208'},\n",
       " '2005-03': {'albedo': '0.7088491', 'temperature': '234.84464'},\n",
       " '2005-09': {'albedo': '0.70354843', 'temperature': '219.98625'},\n",
       " '2005-10': {'albedo': '0.8835086', 'temperature': '234.95879'},\n",
       " '2005-11': {'albedo': '0.9048179', 'temperature': '246.23296'},\n",
       " '2005-12': {'albedo': '0.9804043', 'temperature': '247.65344'},\n",
       " '2006-01': {'albedo': '0.98161405', 'temperature': '244.99089'},\n",
       " '2006-02': {'albedo': '0.8740626', 'temperature': '239.4773'},\n",
       " '2006-03': {'albedo': '0.70961994', 'temperature': '227.0951'},\n",
       " '2006-09': {'albedo': '0.7795143', 'temperature': '221.30916'},\n",
       " '2006-10': {'albedo': '0.83822685', 'temperature': '235.12787'},\n",
       " '2006-11': {'albedo': '0.9102179', 'temperature': '246.26537'},\n",
       " '2006-12': {'albedo': '0.97757864', 'temperature': '245.0689'},\n",
       " '2007-01': {'albedo': '0.9816578', 'temperature': '246.30461'},\n",
       " '2007-02': {'albedo': '0.8888831', 'temperature': '239.60152'},\n",
       " '2007-03': {'albedo': '0.7701815', 'temperature': '228.59389'},\n",
       " '2007-09': {'albedo': '0.7481852', 'temperature': '220.48523'},\n",
       " '2007-10': {'albedo': '0.8900891', 'temperature': '234.03629'},\n",
       " '2007-11': {'albedo': '0.8662786', 'temperature': '246.42928'},\n",
       " '2007-12': {'albedo': '0.97981435', 'temperature': '243.56902'},\n",
       " '2008-01': {'albedo': '0.9732604', 'temperature': '242.3894'},\n",
       " '2008-02': {'albedo': '0.8269165', 'temperature': '240.1792'},\n",
       " '2008-03': {'albedo': '0.7921704', 'temperature': '229.90384'},\n",
       " '2008-09': {'albedo': '0.827925', 'temperature': '221.54024'},\n",
       " '2008-10': {'albedo': '0.81601304', 'temperature': '234.07645'},\n",
       " '2008-11': {'albedo': '0.86625004', 'temperature': '246.2907'},\n",
       " '2008-12': {'albedo': '0.9746313', 'temperature': '247.14009'},\n",
       " '2009-01': {'albedo': '0.9640108', 'temperature': '246.7494'},\n",
       " '2009-02': {'albedo': '0.8205334', 'temperature': '242.63202'},\n",
       " '2009-03': {'albedo': '0.75041026', 'temperature': '228.65906'},\n",
       " '2009-09': {'albedo': '0.8277917', 'temperature': '219.15279'},\n",
       " '2009-10': {'albedo': '0.8907353', 'temperature': '234.87546'},\n",
       " '2009-11': {'albedo': '0.89265156', 'temperature': '244.74059'},\n",
       " '2009-12': {'albedo': '0.97288555', 'temperature': '244.59389'},\n",
       " '2010-01': {'albedo': '0.97735715', 'temperature': '246.33594'},\n",
       " '2010-02': {'albedo': '0.8728606', 'temperature': '240.80447'},\n",
       " '2010-03': {'albedo': '0.7620997', 'temperature': '228.47972'},\n",
       " '2010-09': {'albedo': '0.9209', 'temperature': '221.26299'},\n",
       " '2010-10': {'albedo': '0.8729806', 'temperature': '235.35416'},\n",
       " '2010-11': {'albedo': '0.8822845', 'temperature': '246.75333'},\n",
       " '2010-12': {'albedo': '0.9769678', 'temperature': '247.27603'},\n",
       " '2011-01': {'albedo': '0.9810496', 'temperature': '245.9977'},\n",
       " '2011-02': {'albedo': '0.8641512', 'temperature': '241.54591'},\n",
       " '2011-03': {'albedo': '0.83131444', 'temperature': '230.98822'},\n",
       " '2011-09': {'albedo': '0.79241663', 'temperature': '222.3187'},\n",
       " '2011-10': {'albedo': '0.8878516', 'temperature': '235.94435'},\n",
       " '2011-11': {'albedo': '0.9101631', 'temperature': '246.07678'},\n",
       " '2011-12': {'albedo': '0.9801972', 'temperature': '245.80635'},\n",
       " '2012-01': {'albedo': '0.9814239', 'temperature': '244.6675'},\n",
       " '2012-02': {'albedo': '0.87050873', 'temperature': '239.57065'},\n",
       " '2012-03': {'albedo': '0.82025003', 'temperature': '229.08786'},\n",
       " '2012-09': {'albedo': '0.8050444', 'temperature': '221.81921'},\n",
       " '2012-10': {'albedo': '0.86385113', 'temperature': '238.17978'},\n",
       " '2012-11': {'albedo': '0.83782333', 'temperature': '250.08904'},\n",
       " '2012-12': {'albedo': '0.93199736', 'temperature': '247.4235'},\n",
       " '2013-01': {'albedo': '0.96637386', 'temperature': '246.26715'},\n",
       " '2013-02': {'albedo': '0.82346785', 'temperature': '241.8935'},\n",
       " '2013-03': {'albedo': '0.77975214', 'temperature': '229.10558'},\n",
       " '2013-09': {'albedo': '0.6545926', 'temperature': '224.25746'},\n",
       " '2013-10': {'albedo': '0.9150562', 'temperature': '237.57756'},\n",
       " '2013-11': {'albedo': '0.88498926', 'temperature': '246.59502'},\n",
       " '2013-12': {'albedo': '0.9790104', 'temperature': '246.49529'},\n",
       " '2014-01': {'albedo': '0.9700369', 'temperature': '246.9106'},\n",
       " '2014-02': {'albedo': '0.83839595', 'temperature': '241.28073'},\n",
       " '2014-03': {'albedo': '0.78847593', 'temperature': '229.22496'},\n",
       " '2014-09': {'albedo': '0.89027786', 'temperature': '222.07753'},\n",
       " '2014-10': {'albedo': '0.8832917', 'temperature': '236.67937'},\n",
       " '2014-11': {'albedo': '0.9078467', 'temperature': '245.76428'},\n",
       " '2014-12': {'albedo': '0.9666452', 'temperature': '247.62029'},\n",
       " '2015-01': {'albedo': '0.9588525', 'temperature': '245.35379'},\n",
       " '2015-02': {'albedo': '0.85073906', 'temperature': '241.15677'},\n",
       " '2015-03': {'albedo': '0.715402', 'temperature': '229.5969'},\n",
       " '2015-09': {'albedo': '0.7654166', 'temperature': '222.48001'},\n",
       " '2015-10': {'albedo': '0.8512772', 'temperature': '238.86256'},\n",
       " '2015-11': {'albedo': '0.85751903', 'temperature': '248.1818'},\n",
       " '2015-12': {'albedo': '0.96356404', 'temperature': '247.38538'},\n",
       " '2016-01': {'albedo': '0.96040434', 'temperature': '246.52063'},\n",
       " '2016-02': {'albedo': '0.80385345', 'temperature': '242.62512'},\n",
       " '2016-03': {'albedo': '0.71660393', 'temperature': '232.09302'},\n",
       " '2016-09': {'albedo': '0.67556757', 'temperature': '222.13477'},\n",
       " '2016-10': {'albedo': '0.81894207', 'temperature': '238.08495'},\n",
       " '2016-11': {'albedo': '0.90778875', 'temperature': '247.6631'},\n",
       " '2016-12': {'albedo': '0.9561211', 'temperature': '248.17145'},\n",
       " '2017-01': {'albedo': '0.9462119', 'temperature': '244.70595'},\n",
       " '2017-02': {'albedo': '0.8368723', 'temperature': '243.75626'},\n",
       " '2017-03': {'albedo': '0.67793286', 'temperature': '232.25012'},\n",
       " '2017-09': {'albedo': '0.69023335', 'temperature': '219.02045'},\n",
       " '2017-10': {'albedo': '0.8090931', 'temperature': '240.6682'},\n",
       " '2017-11': {'albedo': '0.8126762', 'temperature': '249.82538'},\n",
       " '2017-12': {'albedo': '0.9276198', 'temperature': '249.97604'},\n",
       " '2018-01': {'albedo': '0.92357373', 'temperature': '246.17696'},\n",
       " '2018-02': {'albedo': '0.751289', 'temperature': '245.17143'},\n",
       " '2018-03': {'albedo': '0.56536824', 'temperature': '232.35281'},\n",
       " '2018-09': {'albedo': '0.33153573', 'temperature': '220.71461'},\n",
       " '2018-10': {'albedo': '0.6261496', 'temperature': '240.24939'},\n",
       " '2018-11': {'albedo': '0.8137921', 'temperature': '249.16548'},\n",
       " '2018-12': {'albedo': '0.86899424', 'temperature': '253.52512'},\n",
       " '2019-01': {'albedo': '0.87724435', 'temperature': '248.8297'},\n",
       " '2019-02': {'albedo': '0.66849434', 'temperature': '248.54784'},\n",
       " '2019-03': {'albedo': '0.28251725', 'temperature': '231.18918'},\n",
       " '2019-09': {'albedo': '0.0', 'temperature': '218.80081'},\n",
       " '2019-10': {'albedo': '0.4784101', 'temperature': '231.7896'},\n",
       " '2019-11': {'albedo': '0.77891856', 'temperature': '246.6446'},\n",
       " '2019-12': {'albedo': '0.8355588', 'temperature': '251.37994'}}"
      ]
     },
     "execution_count": 39,
     "metadata": {},
     "output_type": "execute_result"
    }
   ],
   "source": [
    "data"
   ]
  },
  {
   "cell_type": "markdown",
   "id": "11d668cd",
   "metadata": {
    "pycharm": {
     "name": "#%% md\n"
    }
   },
   "source": [
    "## Save dict of final data as json"
   ]
  },
  {
   "cell_type": "code",
   "execution_count": 41,
   "id": "e1e5e0ad",
   "metadata": {
    "pycharm": {
     "name": "#%%\n"
    }
   },
   "outputs": [],
   "source": [
    "import json\n",
    "json = json.dumps(data)\n",
    "f = open(\"final_mm_data.json\",\"w\")\n",
    "f.write(json)\n",
    "f.close()"
   ]
  },
  {
   "cell_type": "markdown",
   "id": "032a2efa",
   "metadata": {
    "pycharm": {
     "name": "#%% md\n"
    }
   },
   "source": [
    "## Convert Kelvin to Celsius and save as CSV"
   ]
  },
  {
   "cell_type": "code",
   "execution_count": 84,
   "id": "c535ec68",
   "metadata": {
    "pycharm": {
     "name": "#%%\n"
    }
   },
   "outputs": [],
   "source": [
    "import csv\n",
    "\n",
    "header = ['date', 'albedo', 'temperature']\n",
    "\n",
    "with open('final_mm_data.csv', 'w', newline='') as csvfile: \n",
    "    csvwriter = csv.writer(csvfile, delimiter=',')\n",
    "    csvwriter.writerow(header)\n",
    "    for entry in data:\n",
    "        item = data[entry]\n",
    "        albedo = float(item['albedo'])\n",
    "        temperature = float(item['temperature']) - 273.15 # Convert Kelvin to Celsius\n",
    "        line = [entry, albedo, temperature]\n",
    "        csvwriter.writerow(line)"
   ]
  },
  {
   "cell_type": "markdown",
   "id": "b52eaf5e",
   "metadata": {
    "pycharm": {
     "name": "#%% md\n"
    }
   },
   "source": [
    "## Generate CSV with yearly mean values"
   ]
  },
  {
   "cell_type": "code",
   "execution_count": 88,
   "id": "c22a099d",
   "metadata": {
    "pycharm": {
     "name": "#%%\n"
    }
   },
   "outputs": [],
   "source": [
    "start_date = datetime(1990, 1, 1)\n",
    "end_date = datetime(2019, 12, 1)"
   ]
  },
  {
   "cell_type": "code",
   "execution_count": 89,
   "id": "9bf3a0e1",
   "metadata": {
    "pycharm": {
     "name": "#%%\n"
    }
   },
   "outputs": [],
   "source": [
    "data = {}\n",
    "\n",
    "while start_date <= end_date:\n",
    "    date_str = str(start_date.strftime(\"%Y\"))\n",
    "    \n",
    "    try:\n",
    "        albedo_yearly_mean = str(gdf_albedo_loc.loc[date_str, 'cdr_surface_albedo'].mean())\n",
    "        temperature_yearly_mean = str(gdf_temperature_loc.loc[date_str, 'cdr_surface_temperature'].mean())\n",
    "        if albedo_yearly_mean == 'nan' or temperature_yearly_mean == 'nan':\n",
    "            pass\n",
    "        else:\n",
    "            data[date_str] = {}\n",
    "            data[date_str]['albedo'] = albedo_yearly_mean\n",
    "            data[date_str]['temperature'] = temperature_yearly_mean\n",
    "    except:\n",
    "        pass\n",
    "    \n",
    "    start_date = start_date + relativedelta(months=1)"
   ]
  },
  {
   "cell_type": "code",
   "execution_count": 90,
   "id": "4670f398",
   "metadata": {
    "pycharm": {
     "name": "#%%\n"
    }
   },
   "outputs": [
    {
     "data": {
      "text/plain": [
       "{'1990': {'albedo': '0.918978', 'temperature': '228.22087'},\n",
       " '1991': {'albedo': '0.9083623', 'temperature': '229.53526'},\n",
       " '1992': {'albedo': '0.90335006', 'temperature': '227.48744'},\n",
       " '1993': {'albedo': '0.82843447', 'temperature': '228.51353'},\n",
       " '1994': {'albedo': '0.7592709', 'temperature': '226.95282'},\n",
       " '1995': {'albedo': '0.9270495', 'temperature': '228.03595'},\n",
       " '1996': {'albedo': '0.93050104', 'temperature': '230.7377'},\n",
       " '1997': {'albedo': '0.9196208', 'temperature': '228.85664'},\n",
       " '1998': {'albedo': '0.8686161', 'temperature': '227.9806'},\n",
       " '1999': {'albedo': '0.86842096', 'temperature': '227.62265'},\n",
       " '2000': {'albedo': '0.8166456', 'temperature': '226.64476'},\n",
       " '2001': {'albedo': '0.9655592', 'temperature': '225.86191'},\n",
       " '2002': {'albedo': '0.94338125', 'temperature': '226.80609'},\n",
       " '2003': {'albedo': '0.9218586', 'temperature': '229.20352'},\n",
       " '2004': {'albedo': '0.88424885', 'temperature': '231.34618'},\n",
       " '2005': {'albedo': '0.8916691', 'temperature': '228.95064'},\n",
       " '2006': {'albedo': '0.9112452', 'temperature': '226.56372'},\n",
       " '2007': {'albedo': '0.91671944', 'temperature': '227.82867'},\n",
       " '2008': {'albedo': '0.8957049', 'temperature': '227.30093'},\n",
       " '2009': {'albedo': '0.90387964', 'temperature': '227.94432'},\n",
       " '2010': {'albedo': '0.9121832', 'temperature': '228.09962'},\n",
       " '2011': {'albedo': '0.9262049', 'temperature': '229.15271'},\n",
       " '2012': {'albedo': '0.9011441', 'temperature': '227.54106'},\n",
       " '2013': {'albedo': '0.90916955', 'temperature': '229.79736'},\n",
       " '2014': {'albedo': '0.9118495', 'temperature': '229.0699'},\n",
       " '2015': {'albedo': '0.88976085', 'temperature': '229.36653'},\n",
       " '2016': {'albedo': '0.88845545', 'temperature': '230.60742'},\n",
       " '2017': {'albedo': '0.86009806', 'temperature': '229.71584'},\n",
       " '2018': {'albedo': '0.79822946', 'temperature': '231.40741'},\n",
       " '2019': {'albedo': '0.73852146', 'temperature': '229.04868'}}"
      ]
     },
     "execution_count": 90,
     "metadata": {},
     "output_type": "execute_result"
    }
   ],
   "source": [
    "data"
   ]
  },
  {
   "cell_type": "code",
   "execution_count": 92,
   "id": "66a4e76c",
   "metadata": {
    "pycharm": {
     "name": "#%%\n"
    }
   },
   "outputs": [],
   "source": [
    "header = ['year', 'albedo', 'temperature']\n",
    "\n",
    "with open('final_ym_data.csv', 'w', newline='') as csvfile: \n",
    "    csvwriter = csv.writer(csvfile, delimiter=',')\n",
    "    csvwriter.writerow(header)\n",
    "    for entry in data:\n",
    "        item = data[entry]\n",
    "        albedo = float(item['albedo'])\n",
    "        temperature = float(item['temperature']) - 273.15 # Convert Kelvin to Celsius\n",
    "        line = [entry, albedo, temperature]\n",
    "        csvwriter.writerow(line)"
   ]
  },
  {
   "cell_type": "code",
   "execution_count": null,
   "id": "7af89acc",
   "metadata": {
    "pycharm": {
     "name": "#%%\n"
    }
   },
   "outputs": [],
   "source": []
  }
 ],
 "metadata": {
  "hide_input": false,
  "kernelspec": {
   "display_name": "Python 3 (ipykernel)",
   "language": "python",
   "name": "python3"
  },
  "language_info": {
   "codemirror_mode": {
    "name": "ipython",
    "version": 3
   },
   "file_extension": ".py",
   "mimetype": "text/x-python",
   "name": "python",
   "nbconvert_exporter": "python",
   "pygments_lexer": "ipython3",
   "version": "3.9.12"
  },
  "toc": {
   "base_numbering": 1,
   "nav_menu": {},
   "number_sections": true,
   "sideBar": true,
   "skip_h1_title": false,
   "title_cell": "Table of Contents",
   "title_sidebar": "Contents",
   "toc_cell": false,
   "toc_position": {},
   "toc_section_display": true,
   "toc_window_display": false
  }
 },
 "nbformat": 4,
 "nbformat_minor": 5
}
