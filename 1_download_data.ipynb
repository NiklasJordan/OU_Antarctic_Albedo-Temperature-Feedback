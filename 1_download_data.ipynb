{
 "cells": [
  {
   "cell_type": "markdown",
   "metadata": {},
   "source": [
    "# Downloading Extended AVHRR Polar Pathfinder CDR data"
   ]
  },
  {
   "cell_type": "code",
   "execution_count": 1,
   "metadata": {},
   "outputs": [],
   "source": [
    "import requests\n",
    "import datetime\n",
    "import urllib\n",
    "import re\n",
    "import xarray as xr\n",
    "import os\n",
    "import pathlib"
   ]
  },
  {
   "cell_type": "code",
   "execution_count": 8,
   "metadata": {},
   "outputs": [],
   "source": [
    "start_date = datetime.date(1990, 1, 1)\n",
    "end_date = datetime.date(2019, 12, 31)\n",
    "delta = datetime.timedelta(days=365.25)\n",
    "download_dir = os.getcwd() + '/download/'\n",
    "data_dir = os.getcwd() + '/data/'"
   ]
  },
  {
   "cell_type": "code",
   "execution_count": null,
   "metadata": {},
   "outputs": [
    {
     "name": "stdout",
     "output_type": "stream",
     "text": [
      "NEXT YEAR: 2011-01-01\n",
      "NEXT YEAR: 2015-12-31\n",
      "NEXT YEAR: 2016-12-30\n",
      "NEXT YEAR: 2019-12-30\n"
     ]
    }
   ],
   "source": [
    "while start_date <= end_date:\n",
    "    '''\n",
    "    Loop over webpages for each year between start_date and end_date until both dates are equal. \n",
    "    Afterwards find all .nc files starting with 'Polar-App-X_' string and save the filenames to\n",
    "    an array => files.\n",
    "    '''\n",
    "    year = str(start_date.year)\n",
    "    month = str(start_date.month).zfill(2)\n",
    "    day = str(start_date.day).zfill(2)\n",
    "    \n",
    "    url = f'https://www.ncei.noaa.gov/data/avhrr-polar-pathfinder-extended/access/shem/{year}/'\n",
    "    content = urllib.request.urlopen(url).read().decode('utf-8')\n",
    "    \n",
    "    files = re.findall('\"(Polar-APP-X_.*?.nc)\"', content)\n",
    "    \n",
    "    file_count = 0\n",
    "    \n",
    "    for file in files:\n",
    "        '''\n",
    "        Loop over all files from array and save the file to /data/ directory.\n",
    "        '''\n",
    "        try:\n",
    "            file_url = url + file\n",
    "            r = requests.get(file_url, allow_redirects=True)\n",
    "            open(download_dir + str(file), 'wb').write(r.content)\n",
    "            #print(f'Download finished: {file}')\n",
    "        except:\n",
    "            print(f'Download failed: {file}')\n",
    "        \n",
    "        nc_file = download_dir + file\n",
    "        \n",
    "        ds  = xr.open_dataset(nc_file)\n",
    "        albedo = ds['cdr_surface_albedo']\n",
    "        temperature = ds['cdr_surface_temperature']\n",
    "        \n",
    "        try:\n",
    "            data = xr.merge([albedo, temperature], compat='identical')\n",
    "        except:\n",
    "            print(f'Merge failed: {file}')\n",
    "            \n",
    "        merged_dataset_name = data_dir + str(file)\n",
    "        \n",
    "        try:\n",
    "            data.to_netcdf(merged_dataset_name, mode='w')\n",
    "        except:\n",
    "            print(f'File couldnt be saved: {merged_dataset_name}')\n",
    "        \n",
    "        try:\n",
    "            os.remove(download_dir + str(file))\n",
    "        except:\n",
    "            print(f'File couldnt be deleted: {file}')\n",
    "            \n",
    "        file_count += 1\n",
    "\n",
    "    start_date += delta\n",
    "    print(f'NEXT YEAR: {start_date}')\n",
    "print(f'ALL DONE! Last date: {start_date}')\n",
    "print(f'{file_count} files were downloaded!')"
   ]
  },
  {
   "cell_type": "code",
   "execution_count": null,
   "metadata": {},
   "outputs": [],
   "source": []
  }
 ],
 "metadata": {
  "instance_type": "ml.t3.medium",
  "kernelspec": {
   "display_name": "Python 3 (Data Science)",
   "language": "python",
   "name": "python3__SAGEMAKER_INTERNAL__arn:aws:sagemaker:eu-north-1:243637512696:image/datascience-1.0"
  },
  "language_info": {
   "codemirror_mode": {
    "name": "ipython",
    "version": 3
   },
   "file_extension": ".py",
   "mimetype": "text/x-python",
   "name": "python",
   "nbconvert_exporter": "python",
   "pygments_lexer": "ipython3",
   "version": "3.7.10"
  }
 },
 "nbformat": 4,
 "nbformat_minor": 5
}
